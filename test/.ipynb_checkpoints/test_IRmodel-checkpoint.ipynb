{
 "cells": [
  {
   "cell_type": "code",
   "execution_count": 1,
   "metadata": {},
   "outputs": [],
   "source": [
    "%load_ext autoreload\n",
    "%autoreload 2\n",
    "import sys\n",
    "sys.path.insert(0, '../src')\n",
    "from tools import *\n",
    "import pickle\n",
    "import pandas as pd"
   ]
  },
  {
   "cell_type": "code",
   "execution_count": 2,
   "metadata": {},
   "outputs": [],
   "source": [
    "f = open(\"../pickled/cacmShort-good--indexer\", \"rb\")\n",
    "indexer = pickle.load(f)\n",
    "f.close()"
   ]
  },
  {
   "cell_type": "code",
   "execution_count": 3,
   "metadata": {},
   "outputs": [
    {
     "data": {
      "text/plain": [
       "{1: <parsing.Document at 0x7f2a67c925f8>,\n",
       " 2: <parsing.Document at 0x7f2a67c92630>,\n",
       " 3: <parsing.Document at 0x7f2a67c92710>,\n",
       " 4: <parsing.Document at 0x7f2a67c92780>,\n",
       " 5: <parsing.Document at 0x7f2a67c92828>,\n",
       " 6: <parsing.Document at 0x7f2a67c92860>,\n",
       " 7: <parsing.Document at 0x7f2a67c92908>,\n",
       " 8: <parsing.Document at 0x7f2a67c92940>,\n",
       " 9: <parsing.Document at 0x7f2a67c929e8>,\n",
       " 10: <parsing.Document at 0x7f2a67c92a20>,\n",
       " 11: <parsing.Document at 0x7f2a67c92a58>}"
      ]
     },
     "execution_count": 3,
     "metadata": {},
     "output_type": "execute_result"
    }
   ],
   "source": [
    "indexer.getCollection()"
   ]
  },
  {
   "cell_type": "code",
   "execution_count": 4,
   "metadata": {},
   "outputs": [],
   "source": [
    "model = Vectoriel(indexer, W2)"
   ]
  },
  {
   "cell_type": "code",
   "execution_count": 5,
   "metadata": {},
   "outputs": [
    {
     "data": {
      "text/plain": [
       "{1: 2.449489742783178,\n",
       " 2: 2.449489742783178,\n",
       " 3: 2.23606797749979,\n",
       " 4: 2.23606797749979,\n",
       " 5: 1.7320508075688772,\n",
       " 6: 1.7320508075688772,\n",
       " 7: 2.23606797749979,\n",
       " 8: 2.0,\n",
       " 9: 1.4142135623730951,\n",
       " 10: 2.23606797749979,\n",
       " 11: 2.8284271247461903}"
      ]
     },
     "execution_count": 5,
     "metadata": {},
     "output_type": "execute_result"
    }
   ],
   "source": [
    "model.all_doc_norms"
   ]
  },
  {
   "cell_type": "code",
   "execution_count": 6,
   "metadata": {},
   "outputs": [
    {
     "data": {
      "text/plain": [
       "[(4, 3),\n",
       " (7, 3),\n",
       " (10, 3),\n",
       " (2, 2),\n",
       " (6, 2),\n",
       " (1, 0),\n",
       " (3, 0),\n",
       " (5, 0),\n",
       " (8, 0),\n",
       " (9, 0),\n",
       " (11, 0)]"
      ]
     },
     "execution_count": 6,
     "metadata": {},
     "output_type": "execute_result"
    }
   ],
   "source": [
    "scores = model.getRanking(\"computing computing glossaries\")\n",
    "scores"
   ]
  },
  {
   "cell_type": "code",
   "execution_count": 7,
   "metadata": {},
   "outputs": [
    {
     "data": {
      "text/plain": [
       "[(4, 3),\n",
       " (7, 3),\n",
       " (10, 3),\n",
       " (2, 2),\n",
       " (6, 2),\n",
       " (1, 0),\n",
       " (3, 0),\n",
       " (5, 0),\n",
       " (8, 0),\n",
       " (9, 0),\n",
       " (11, 0)]"
      ]
     },
     "execution_count": 7,
     "metadata": {},
     "output_type": "execute_result"
    }
   ],
   "source": [
    "scores = model.getRanking(\"computing computing glossaries\")\n",
    "scores"
   ]
  },
  {
   "cell_type": "code",
   "execution_count": 8,
   "metadata": {},
   "outputs": [
    {
     "name": "stdout",
     "output_type": "stream",
     "text": [
      "Doc 4 : Glossary of Computer Engineering and Programming Terminology\n",
      "\n",
      "Doc 7 : Glossary of Computer Engineering and Programming Terminology\n",
      "\n",
      "Doc 10 : Glossary of Computer Engineering and Programming Terminology\n",
      "\n",
      "Doc 2 : Extraction of Roots by Repeated Subtractions for Digital Computers\n",
      "\n",
      "Doc 6 : The Use of Computers in Inspection Procedures\n",
      "\n",
      "Doc 1 : Preliminary Report-International Algebraic Language\n",
      "jgkfldjgfkld\n",
      "\n",
      "Doc 3 : Techniques Department on Matrix Program Schemes\n",
      "\n",
      "Doc 5 : Two Square-Root Approximations\n",
      "\n",
      "Doc 8 : On The Equivalence and Transformation of Program Schemes\n",
      "\n",
      "Doc 9 : Proposal for an UNCOL\n",
      "\n",
      "Doc 11 : The Problem of Programming Communication with\n",
      "Changing Machines A Proposed Solution-Part 2\n",
      "\n"
     ]
    }
   ],
   "source": [
    "for k,v in scores:\n",
    "    print(\"Doc {} : {}\".format(k,docs[k].get_text()))"
   ]
  },
  {
   "cell_type": "code",
   "execution_count": 31,
   "metadata": {},
   "outputs": [],
   "source": [
    "ml = ModeleLangue(indexer)"
   ]
  },
  {
   "cell_type": "code",
   "execution_count": 32,
   "metadata": {},
   "outputs": [
    {
     "data": {
      "text/plain": [
       "-1.0986122886681098"
      ]
     },
     "execution_count": 32,
     "metadata": {},
     "output_type": "execute_result"
    }
   ],
   "source": [
    "math.log(1/3)"
   ]
  },
  {
   "cell_type": "code",
   "execution_count": 33,
   "metadata": {},
   "outputs": [
    {
     "data": {
      "text/plain": [
       "-1.791759469228055"
      ]
     },
     "execution_count": 33,
     "metadata": {},
     "output_type": "execute_result"
    }
   ],
   "source": [
    "math.log(1/6)"
   ]
  },
  {
   "cell_type": "code",
   "execution_count": 34,
   "metadata": {},
   "outputs": [
    {
     "data": {
      "text/plain": [
       "{1: 0,\n",
       " 2: 1.4526383446132132,\n",
       " 3: 0,\n",
       " 4: 2.6058698906637914,\n",
       " 5: 0,\n",
       " 6: 0.8981206001652572,\n",
       " 7: 2.6058698906637914,\n",
       " 8: 0,\n",
       " 9: 0,\n",
       " 10: 2.6058698906637914,\n",
       " 11: 0}"
      ]
     },
     "execution_count": 34,
     "metadata": {},
     "output_type": "execute_result"
    }
   ],
   "source": [
    "ml.getRanking(\"computing glossaries\")"
   ]
  },
  {
   "cell_type": "code",
   "execution_count": 36,
   "metadata": {},
   "outputs": [],
   "source": [
    "okapi = OkapiBM25(indexer)"
   ]
  },
  {
   "cell_type": "code",
   "execution_count": 24,
   "metadata": {},
   "outputs": [
    {
     "data": {
      "text/plain": [
       "4.7272727272727275"
      ]
     },
     "execution_count": 24,
     "metadata": {},
     "output_type": "execute_result"
    }
   ],
   "source": [
    "okapi.avgdl"
   ]
  },
  {
   "cell_type": "code",
   "execution_count": 37,
   "metadata": {},
   "outputs": [
    {
     "data": {
      "text/plain": [
       "[(4, 0.8559622636642983),\n",
       " (7, 0.8559622636642983),\n",
       " (10, 0.8559622636642983),\n",
       " (6, 0.3902940269530823),\n",
       " (2, 0.30780233466368195),\n",
       " (1, 0),\n",
       " (3, 0),\n",
       " (5, 0),\n",
       " (8, 0),\n",
       " (9, 0),\n",
       " (11, 0)]"
      ]
     },
     "execution_count": 37,
     "metadata": {},
     "output_type": "execute_result"
    }
   ],
   "source": [
    "okapi.getRanking(\"computing glossaries\")"
   ]
  },
  {
   "cell_type": "code",
   "execution_count": 21,
   "metadata": {},
   "outputs": [
    {
     "ename": "NameError",
     "evalue": "name 'okapi' is not defined",
     "output_type": "error",
     "traceback": [
      "\u001b[0;31m---------------------------------------------------------------------------\u001b[0m",
      "\u001b[0;31mNameError\u001b[0m                                 Traceback (most recent call last)",
      "\u001b[0;32m<ipython-input-21-45883826d89e>\u001b[0m in \u001b[0;36m<module>\u001b[0;34m()\u001b[0m\n\u001b[0;32m----> 1\u001b[0;31m \u001b[0mnp\u001b[0m\u001b[0;34m.\u001b[0m\u001b[0marray\u001b[0m\u001b[0;34m(\u001b[0m\u001b[0mokapi\u001b[0m\u001b[0;34m.\u001b[0m\u001b[0mgetRanking\u001b[0m\u001b[0;34m(\u001b[0m\u001b[0;34m\"computing glossaries\"\u001b[0m\u001b[0;34m)\u001b[0m\u001b[0;34m)\u001b[0m\u001b[0;34m\u001b[0m\u001b[0m\n\u001b[0m",
      "\u001b[0;31mNameError\u001b[0m: name 'okapi' is not defined"
     ]
    }
   ],
   "source": [
    "np.array(okapi.getRanking(\"computing glossaries\"))"
   ]
  },
  {
   "cell_type": "code",
   "execution_count": 8,
   "metadata": {},
   "outputs": [
    {
     "data": {
      "text/plain": [
       "{'Counter': collections.Counter,\n",
       " 'Document': <class parsing.Document at 0x7fbc844d1c18>,\n",
       " 'IRModel': <class models.IRModel at 0x7fbc5530ec80>,\n",
       " 'In': ['',\n",
       "  u\"get_ipython().magic(u'load_ext autoreload')\\nget_ipython().magic(u'autoreload 2')\\nfrom parsing import *\\nfrom models import *\",\n",
       "  u'parser = Parser()\\nparser.buildDocCollection(\"cacmShort-good.txt\")\\ndocs = parser.getCollection()\\n\\nindexer = IndexerSimple(parser.getSource())\\nindexer.indexation(docs)\\n\\nW1 = Weighter1(indexer)\\nW2 = Weighter2(indexer)',\n",
       "  u\"get_ipython().magic(u'load_ext autoreload')\\nget_ipython().magic(u'autoreload 2')\\nfrom parsing import *\\nfrom models import *\",\n",
       "  u'parser = Parser()\\nparser.buildDocCollection(\"cacmShort-good.txt\")\\ndocs = parser.getCollection()\\n\\nindexer = IndexerSimple(parser.getSource())\\nindexer.indexation(docs)\\n\\nW1 = Weighter1(indexer)\\nW2 = Weighter2(indexer)',\n",
       "  u\"get_ipython().magic(u'load_ext autoreload')\\nget_ipython().magic(u'autoreload 2')\\nfrom parsing import *\\nfrom models import *\",\n",
       "  u'parser = Parser()\\nparser.buildDocCollection(\"cacmShort-good.txt\")\\ndocs = parser.getCollection()\\n\\nindexer = IndexerSimple(parser.getSource())\\nindexer.indexation(docs)\\n\\nW1 = Weighter1(indexer)\\nW2 = Weighter2(indexer)',\n",
       "  u'__version__',\n",
       "  u'globals()'],\n",
       " 'IndexerSimple': <class indexation.IndexerSimple at 0x7fbc5530ec18>,\n",
       " 'ModeleLangue': <class models.ModeleLangue at 0x7fbc5530ed50>,\n",
       " 'OkapiBM25': <class models.OkapiBM25 at 0x7fbc5530edb8>,\n",
       " 'Out': {},\n",
       " 'Parser': <class parsing.Parser at 0x7fbc844d1ce8>,\n",
       " 'TextRepresenter': <module 'TextRepresenter' from 'TextRepresenter.pyc'>,\n",
       " 'Vectoriel': <class models.Vectoriel at 0x7fbc5530ece8>,\n",
       " 'Weighter': weighter.Weighter,\n",
       " 'Weighter1': weighter.Weighter1,\n",
       " 'Weighter2': weighter.Weighter2,\n",
       " 'Weighter3': weighter.Weighter3,\n",
       " 'Weighter4': weighter.Weighter4,\n",
       " 'Weighter5': weighter.Weighter5,\n",
       " '_': '',\n",
       " '__': '',\n",
       " '___': '',\n",
       " '__builtin__': <module '__builtin__' (built-in)>,\n",
       " '__builtins__': <module '__builtin__' (built-in)>,\n",
       " '__doc__': 'Automatically created module for IPython interactive environment',\n",
       " '__name__': '__main__',\n",
       " '__package__': None,\n",
       " '_dh': [u'/users/nfs/Etu1/3702151/TAL/PROJET_RI'],\n",
       " '_i': u'__version__',\n",
       " '_i1': u'%load_ext autoreload\\n%autoreload 2\\nfrom parsing import *\\nfrom models import *',\n",
       " '_i2': u'parser = Parser()\\nparser.buildDocCollection(\"cacmShort-good.txt\")\\ndocs = parser.getCollection()\\n\\nindexer = IndexerSimple(parser.getSource())\\nindexer.indexation(docs)\\n\\nW1 = Weighter1(indexer)\\nW2 = Weighter2(indexer)',\n",
       " '_i3': u'%load_ext autoreload\\n%autoreload 2\\nfrom parsing import *\\nfrom models import *',\n",
       " '_i4': u'parser = Parser()\\nparser.buildDocCollection(\"cacmShort-good.txt\")\\ndocs = parser.getCollection()\\n\\nindexer = IndexerSimple(parser.getSource())\\nindexer.indexation(docs)\\n\\nW1 = Weighter1(indexer)\\nW2 = Weighter2(indexer)',\n",
       " '_i5': u'%load_ext autoreload\\n%autoreload 2\\nfrom parsing import *\\nfrom models import *',\n",
       " '_i6': u'parser = Parser()\\nparser.buildDocCollection(\"cacmShort-good.txt\")\\ndocs = parser.getCollection()\\n\\nindexer = IndexerSimple(parser.getSource())\\nindexer.indexation(docs)\\n\\nW1 = Weighter1(indexer)\\nW2 = Weighter2(indexer)',\n",
       " '_i7': u'__version__',\n",
       " '_i8': u'globals()',\n",
       " '_ih': ['',\n",
       "  u\"get_ipython().magic(u'load_ext autoreload')\\nget_ipython().magic(u'autoreload 2')\\nfrom parsing import *\\nfrom models import *\",\n",
       "  u'parser = Parser()\\nparser.buildDocCollection(\"cacmShort-good.txt\")\\ndocs = parser.getCollection()\\n\\nindexer = IndexerSimple(parser.getSource())\\nindexer.indexation(docs)\\n\\nW1 = Weighter1(indexer)\\nW2 = Weighter2(indexer)',\n",
       "  u\"get_ipython().magic(u'load_ext autoreload')\\nget_ipython().magic(u'autoreload 2')\\nfrom parsing import *\\nfrom models import *\",\n",
       "  u'parser = Parser()\\nparser.buildDocCollection(\"cacmShort-good.txt\")\\ndocs = parser.getCollection()\\n\\nindexer = IndexerSimple(parser.getSource())\\nindexer.indexation(docs)\\n\\nW1 = Weighter1(indexer)\\nW2 = Weighter2(indexer)',\n",
       "  u\"get_ipython().magic(u'load_ext autoreload')\\nget_ipython().magic(u'autoreload 2')\\nfrom parsing import *\\nfrom models import *\",\n",
       "  u'parser = Parser()\\nparser.buildDocCollection(\"cacmShort-good.txt\")\\ndocs = parser.getCollection()\\n\\nindexer = IndexerSimple(parser.getSource())\\nindexer.indexation(docs)\\n\\nW1 = Weighter1(indexer)\\nW2 = Weighter2(indexer)',\n",
       "  u'__version__',\n",
       "  u'globals()'],\n",
       " '_ii': u'parser = Parser()\\nparser.buildDocCollection(\"cacmShort-good.txt\")\\ndocs = parser.getCollection()\\n\\nindexer = IndexerSimple(parser.getSource())\\nindexer.indexation(docs)\\n\\nW1 = Weighter1(indexer)\\nW2 = Weighter2(indexer)',\n",
       " '_iii': u'%load_ext autoreload\\n%autoreload 2\\nfrom parsing import *\\nfrom models import *',\n",
       " '_oh': {},\n",
       " '_sh': <module 'IPython.core.shadowns' from '/usr/local/lib/python2.7/dist-packages/IPython/core/shadowns.pyc'>,\n",
       " 'calcule_norme': <function models.calcule_norme>,\n",
       " 'collections': <module 'collections' from '/usr/lib/python2.7/collections.pyc'>,\n",
       " 'copy': <module 'copy' from '/usr/lib/python2.7/copy.pyc'>,\n",
       " 'docs': {1: <parsing.Document instance at 0x7fbc55157758>,\n",
       "  2: <parsing.Document instance at 0x7fbc552c7d88>,\n",
       "  3: <parsing.Document instance at 0x7fbc552c7d40>,\n",
       "  4: <parsing.Document instance at 0x7fbc552c7908>,\n",
       "  5: <parsing.Document instance at 0x7fbc552c7fc8>,\n",
       "  6: <parsing.Document instance at 0x7fbc552c7f80>,\n",
       "  7: <parsing.Document instance at 0x7fbc552c7ef0>,\n",
       "  8: <parsing.Document instance at 0x7fbc552c7ea8>,\n",
       "  9: <parsing.Document instance at 0x7fbc552c7e60>,\n",
       "  10: <parsing.Document instance at 0x7fbc552c7e18>,\n",
       "  11: <parsing.Document instance at 0x7fbc55179098>},\n",
       " 'exit': <IPython.core.autocall.ZMQExitAutocall at 0x7fbc844f49d0>,\n",
       " 'get_ipython': <bound method ZMQInteractiveShell.get_ipython of <ipykernel.zmqshell.ZMQInteractiveShell object at 0x7fbc86dad9d0>>,\n",
       " 'indexer': <indexation.IndexerSimple instance at 0x7fbc551790e0>,\n",
       " 'math': <module 'math' (built-in)>,\n",
       " 'np': <module 'numpy' from '/usr/local/lib/python2.7/dist-packages/numpy/__init__.pyc'>,\n",
       " 'parser': <parsing.Parser instance at 0x7fbc845295f0>,\n",
       " 'porter': <module 'porter' from 'porter.pyc'>,\n",
       " 'quit': <IPython.core.autocall.ZMQExitAutocall at 0x7fbc844f49d0>}"
      ]
     },
     "execution_count": 8,
     "metadata": {},
     "output_type": "execute_result"
    }
   ],
   "source": [
    "globals()"
   ]
  },
  {
   "cell_type": "code",
   "execution_count": null,
   "metadata": {},
   "outputs": [],
   "source": []
  }
 ],
 "metadata": {
  "kernelspec": {
   "display_name": "Python 3",
   "language": "python",
   "name": "python3"
  },
  "language_info": {
   "codemirror_mode": {
    "name": "ipython",
    "version": 3
   },
   "file_extension": ".py",
   "mimetype": "text/x-python",
   "name": "python",
   "nbconvert_exporter": "python",
   "pygments_lexer": "ipython3",
   "version": "3.5.4"
  }
 },
 "nbformat": 4,
 "nbformat_minor": 2
}
