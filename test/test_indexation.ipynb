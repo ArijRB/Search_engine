{
 "cells": [
  {
   "cell_type": "code",
   "execution_count": 16,
   "metadata": {},
   "outputs": [
    {
     "name": "stdout",
     "output_type": "stream",
     "text": [
      "The autoreload extension is already loaded. To reload it, use:\n",
      "  %reload_ext autoreload\n"
     ]
    }
   ],
   "source": [
    "%load_ext autoreload\n",
    "%autoreload 2\n",
    "import sys\n",
    "sys.path.insert(0, '../src')\n",
    "from tools import *\n",
    "import pickle"
   ]
  },
  {
   "cell_type": "markdown",
   "metadata": {},
   "source": [
    "## Parsing de cacmShort-good.txt"
   ]
  },
  {
   "cell_type": "code",
   "execution_count": 2,
   "metadata": {},
   "outputs": [
    {
     "name": "stdout",
     "output_type": "stream",
     "text": [
      "Construction achevée : la collection ../data/cacm/cacmShort-good.txt contient 11 documents.\n"
     ]
    }
   ],
   "source": [
    "parser = Parser()\n",
    "parser.buildDocCollection(\"../data/cacm/cacmShort-good.txt\")"
   ]
  },
  {
   "cell_type": "code",
   "execution_count": 3,
   "metadata": {},
   "outputs": [
    {
     "data": {
      "text/plain": [
       "{1: 0.38235294117647056,\n",
       " 43: 0.029411764705882353,\n",
       " 53: 0.029411764705882353,\n",
       " 91: 0.029411764705882353,\n",
       " 100: 0.029411764705882353,\n",
       " 123: 0.029411764705882353,\n",
       " 164: 0.029411764705882353,\n",
       " 165: 0.029411764705882353,\n",
       " 196: 0.058823529411764705,\n",
       " 205: 0.029411764705882353,\n",
       " 210: 0.029411764705882353,\n",
       " 214: 0.029411764705882353,\n",
       " 324: 0.029411764705882353,\n",
       " 398: 0.029411764705882353,\n",
       " 410: 0.029411764705882353,\n",
       " 642: 0.029411764705882353,\n",
       " 669: 0.029411764705882353,\n",
       " 1273: 0.029411764705882353,\n",
       " 1883: 0.029411764705882353,\n",
       " 1982: 0.029411764705882353,\n",
       " 3184: 0.029411764705882353}"
      ]
     },
     "execution_count": 3,
     "metadata": {},
     "output_type": "execute_result"
    }
   ],
   "source": [
    "parser.getHyperlinksFrom(1)"
   ]
  },
  {
   "cell_type": "code",
   "execution_count": 4,
   "metadata": {},
   "outputs": [
    {
     "data": {
      "text/plain": [
       "'../data/cacm/cacmShort-good'"
      ]
     },
     "execution_count": 4,
     "metadata": {},
     "output_type": "execute_result"
    }
   ],
   "source": [
    "parser.source[:-4]"
   ]
  },
  {
   "cell_type": "code",
   "execution_count": 5,
   "metadata": {},
   "outputs": [
    {
     "name": "stdout",
     "output_type": "stream",
     "text": [
      "--> Document 1\n",
      "\tTexte : Preliminary Report-International Algebraic Language jgkfldjgfkld \n",
      "\tHyperliens : [100, 123, 164, 1, 1, 1, 205, 210, 214, 1982, 398, 642, 669, 1, 1, 1, 1, 1, 1, 1, 1, 1, 1, 165, 196, 196, 1273, 1883, 324, 43, 53, 91, 410, 3184]\n",
      "-------------------------------------\n",
      "--> Document 2\n",
      "\tTexte : Extraction of Roots by Repeated Subtractions for Digital Computers \n",
      "\tHyperliens : [2, 2, 2]\n",
      "-------------------------------------\n",
      "--> Document 3\n",
      "\tTexte : Techniques Department on Matrix Program Schemes \n",
      "\tHyperliens : [3, 1, 3]\n",
      "-------------------------------------\n",
      "--> Document 4\n",
      "\tTexte : Glossary of Computer Engineering and Programming Terminology \n",
      "\tHyperliens : [4, 1, 4]\n",
      "-------------------------------------\n",
      "--> Document 5\n",
      "\tTexte : Two Square-Root Approximations \n",
      "\tHyperliens : [5, 5, 5]\n",
      "-------------------------------------\n",
      "--> Document 6\n",
      "\tTexte : The Use of Computers in Inspection Procedures \n",
      "\tHyperliens : [6, 6, 6, 477, 6]\n",
      "-------------------------------------\n",
      "--> Document 7\n",
      "\tTexte : Glossary of Computer Engineering and Programming Terminology \n",
      "\tHyperliens : [7, 7, 7]\n",
      "-------------------------------------\n",
      "--> Document 8\n",
      "\tTexte : On The Equivalence and Transformation of Program Schemes \n",
      "\tHyperliens : [8, 8, 8]\n",
      "-------------------------------------\n",
      "--> Document 9\n",
      "\tTexte : Proposal for an UNCOL \n",
      "\tHyperliens : [9, 9, 9]\n",
      "-------------------------------------\n",
      "--> Document 10\n",
      "\tTexte : Glossary of Computer Engineering and Programming Terminology \n",
      "\tHyperliens : [10, 10, 10]\n",
      "-------------------------------------\n",
      "--> Document 11\n",
      "\tTexte : The Problem of Programming Communication with Changing Machines A Proposed Solution-Part 2 \n",
      "\tHyperliens : [1781, 1988, 11, 11, 11, 123, 196, 919, 990, 1007, 1046, 1131, 1139, 1140, 1149, 1198, 1215, 1223, 1265, 1303, 1323, 1358, 1366, 1421, 1460, 1462, 1463, 1467, 1468, 1477, 1491, 1496, 1496, 1531, 1535, 1565, 1601, 1602, 1613, 1614, 1626, 1641, 1787, 1788, 205, 224, 249, 288, 316, 381, 381, 398, 11, 11, 14, 404, 410, 463, 464, 483, 3184, 3188, 584, 600, 680, 691, 799, 763]\n",
      "-------------------------------------\n"
     ]
    }
   ],
   "source": [
    "parser.displayCollection()"
   ]
  },
  {
   "cell_type": "code",
   "execution_count": 6,
   "metadata": {},
   "outputs": [],
   "source": [
    "docs = parser.getCollection()"
   ]
  },
  {
   "cell_type": "markdown",
   "metadata": {},
   "source": [
    "## Indexation de cacmShort-good.txt"
   ]
  },
  {
   "cell_type": "code",
   "execution_count": 7,
   "metadata": {},
   "outputs": [
    {
     "name": "stdout",
     "output_type": "stream",
     "text": [
      "Indexation de la collection ../data/cacm/cacmShort-good.txt achevée\n"
     ]
    }
   ],
   "source": [
    "indexer = IndexerSimple(parser.getSource())\n",
    "indexer.indexation(docs)"
   ]
  },
  {
   "cell_type": "markdown",
   "metadata": {},
   "source": [
    "### Index"
   ]
  },
  {
   "cell_type": "code",
   "execution_count": 8,
   "metadata": {},
   "outputs": [
    {
     "data": {
      "text/plain": [
       "{1: {'algebra': 1,\n",
       "  'intern': 1,\n",
       "  'jgkfldjgfkld': 1,\n",
       "  'languag': 1,\n",
       "  'preliminari': 1,\n",
       "  'report': 1},\n",
       " 2: {'comput': 1,\n",
       "  'digit': 1,\n",
       "  'extract': 1,\n",
       "  'repeat': 1,\n",
       "  'root': 1,\n",
       "  'subtract': 1},\n",
       " 3: {'depart': 1, 'matrix': 1, 'program': 1, 'scheme': 1, 'techniqu': 1},\n",
       " 4: {'comput': 1, 'engin': 1, 'glossari': 1, 'programm': 1, 'terminolog': 1},\n",
       " 5: {'approxim': 1, 'root': 1, 'squar': 1},\n",
       " 6: {'comput': 1, 'inspect': 1, 'procedur': 1},\n",
       " 7: {'comput': 1, 'engin': 1, 'glossari': 1, 'programm': 1, 'terminolog': 1},\n",
       " 8: {'equival': 1, 'program': 1, 'scheme': 1, 'transform': 1},\n",
       " 9: {'propos': 1, 'uncol': 1},\n",
       " 10: {'comput': 1, 'engin': 1, 'glossari': 1, 'programm': 1, 'terminolog': 1},\n",
       " 11: {'2': 1,\n",
       "  'chang': 1,\n",
       "  'commun': 1,\n",
       "  'machin': 1,\n",
       "  'problem': 1,\n",
       "  'programm': 1,\n",
       "  'propos': 1,\n",
       "  'solut': 1}}"
      ]
     },
     "execution_count": 8,
     "metadata": {},
     "output_type": "execute_result"
    }
   ],
   "source": [
    "indexer.get_index()"
   ]
  },
  {
   "cell_type": "code",
   "execution_count": 9,
   "metadata": {},
   "outputs": [
    {
     "name": "stdout",
     "output_type": "stream",
     "text": [
      "Document 1 : {'jgkfldjgfkld': 1, 'preliminari': 1, 'intern': 1, 'languag': 1, 'report': 1, 'algebra': 1}\n",
      "Document 2 : {'extract': 1, 'root': 1, 'comput': 1, 'subtract': 1, 'digit': 1, 'repeat': 1}\n",
      "Document 3 : {'matrix': 1, 'program': 1, 'depart': 1, 'scheme': 1, 'techniqu': 1}\n",
      "Document 4 : {'engin': 1, 'terminolog': 1, 'comput': 1, 'programm': 1, 'glossari': 1}\n",
      "Document 5 : {'approxim': 1, 'root': 1, 'squar': 1}\n",
      "Document 6 : {'comput': 1, 'inspect': 1, 'procedur': 1}\n",
      "Document 7 : {'engin': 1, 'terminolog': 1, 'comput': 1, 'programm': 1, 'glossari': 1}\n",
      "Document 8 : {'transform': 1, 'program': 1, 'equival': 1, 'scheme': 1}\n",
      "Document 9 : {'propos': 1, 'uncol': 1}\n",
      "Document 10 : {'engin': 1, 'terminolog': 1, 'comput': 1, 'programm': 1, 'glossari': 1}\n",
      "Document 11 : {'2': 1, 'machin': 1, 'chang': 1, 'programm': 1, 'commun': 1, 'propos': 1, 'problem': 1, 'solut': 1}\n"
     ]
    }
   ],
   "source": [
    "for (i,doc) in docs.items():\n",
    "    print(\"Document {} : {}\".format(str(i),str(indexer.getTfsForDoc(doc))))"
   ]
  },
  {
   "cell_type": "markdown",
   "metadata": {},
   "source": [
    "### Index normalisé"
   ]
  },
  {
   "cell_type": "code",
   "execution_count": 10,
   "metadata": {},
   "outputs": [
    {
     "data": {
      "text/plain": [
       "{1: {'algebra': 0.16666666666666666,\n",
       "  'intern': 0.16666666666666666,\n",
       "  'jgkfldjgfkld': 0.16666666666666666,\n",
       "  'languag': 0.16666666666666666,\n",
       "  'preliminari': 0.16666666666666666,\n",
       "  'report': 0.16666666666666666},\n",
       " 2: {'comput': 0.16666666666666666,\n",
       "  'digit': 0.16666666666666666,\n",
       "  'extract': 0.16666666666666666,\n",
       "  'repeat': 0.16666666666666666,\n",
       "  'root': 0.16666666666666666,\n",
       "  'subtract': 0.16666666666666666},\n",
       " 3: {'depart': 0.2,\n",
       "  'matrix': 0.2,\n",
       "  'program': 0.2,\n",
       "  'scheme': 0.2,\n",
       "  'techniqu': 0.2},\n",
       " 4: {'comput': 0.2,\n",
       "  'engin': 0.2,\n",
       "  'glossari': 0.2,\n",
       "  'programm': 0.2,\n",
       "  'terminolog': 0.2},\n",
       " 5: {'approxim': 0.3333333333333333,\n",
       "  'root': 0.3333333333333333,\n",
       "  'squar': 0.3333333333333333},\n",
       " 6: {'comput': 0.3333333333333333,\n",
       "  'inspect': 0.3333333333333333,\n",
       "  'procedur': 0.3333333333333333},\n",
       " 7: {'comput': 0.2,\n",
       "  'engin': 0.2,\n",
       "  'glossari': 0.2,\n",
       "  'programm': 0.2,\n",
       "  'terminolog': 0.2},\n",
       " 8: {'equival': 0.25, 'program': 0.25, 'scheme': 0.25, 'transform': 0.25},\n",
       " 9: {'propos': 0.5, 'uncol': 0.5},\n",
       " 10: {'comput': 0.2,\n",
       "  'engin': 0.2,\n",
       "  'glossari': 0.2,\n",
       "  'programm': 0.2,\n",
       "  'terminolog': 0.2},\n",
       " 11: {'2': 0.125,\n",
       "  'chang': 0.125,\n",
       "  'commun': 0.125,\n",
       "  'machin': 0.125,\n",
       "  'problem': 0.125,\n",
       "  'programm': 0.125,\n",
       "  'propos': 0.125,\n",
       "  'solut': 0.125}}"
      ]
     },
     "execution_count": 10,
     "metadata": {},
     "output_type": "execute_result"
    }
   ],
   "source": [
    "indexer.get_index(normalized=True)"
   ]
  },
  {
   "cell_type": "markdown",
   "metadata": {},
   "source": [
    "### Index inversé"
   ]
  },
  {
   "cell_type": "code",
   "execution_count": 11,
   "metadata": {},
   "outputs": [
    {
     "data": {
      "text/plain": [
       "{'2': {11: 1},\n",
       " 'algebra': {1: 1},\n",
       " 'approxim': {5: 1},\n",
       " 'chang': {11: 1},\n",
       " 'commun': {11: 1},\n",
       " 'comput': {2: 1, 4: 1, 6: 1, 7: 1, 10: 1},\n",
       " 'depart': {3: 1},\n",
       " 'digit': {2: 1},\n",
       " 'engin': {4: 1, 7: 1, 10: 1},\n",
       " 'equival': {8: 1},\n",
       " 'extract': {2: 1},\n",
       " 'glossari': {4: 1, 7: 1, 10: 1},\n",
       " 'inspect': {6: 1},\n",
       " 'intern': {1: 1},\n",
       " 'jgkfldjgfkld': {1: 1},\n",
       " 'languag': {1: 1},\n",
       " 'machin': {11: 1},\n",
       " 'matrix': {3: 1},\n",
       " 'preliminari': {1: 1},\n",
       " 'problem': {11: 1},\n",
       " 'procedur': {6: 1},\n",
       " 'program': {3: 1, 8: 1},\n",
       " 'programm': {4: 1, 7: 1, 10: 1, 11: 1},\n",
       " 'propos': {9: 1, 11: 1},\n",
       " 'repeat': {2: 1},\n",
       " 'report': {1: 1},\n",
       " 'root': {2: 1, 5: 1},\n",
       " 'scheme': {3: 1, 8: 1},\n",
       " 'solut': {11: 1},\n",
       " 'squar': {5: 1},\n",
       " 'subtract': {2: 1},\n",
       " 'techniqu': {3: 1},\n",
       " 'terminolog': {4: 1, 7: 1, 10: 1},\n",
       " 'transform': {8: 1},\n",
       " 'uncol': {9: 1}}"
      ]
     },
     "execution_count": 11,
     "metadata": {},
     "output_type": "execute_result"
    }
   ],
   "source": [
    "indexer.get_index_inverse()"
   ]
  },
  {
   "cell_type": "code",
   "execution_count": 12,
   "metadata": {},
   "outputs": [
    {
     "name": "stdout",
     "output_type": "stream",
     "text": [
      "root : {2: 1, 5: 1}\n",
      "engin : {10: 1, 4: 1, 7: 1}\n",
      "preliminari : {1: 1}\n",
      "subtract : {2: 1}\n",
      "depart : {3: 1}\n",
      "intern : {1: 1}\n",
      "digit : {2: 1}\n",
      "machin : {11: 1}\n",
      "2 : {11: 1}\n",
      "solut : {11: 1}\n",
      "matrix : {3: 1}\n",
      "program : {8: 1, 3: 1}\n",
      "procedur : {6: 1}\n",
      "approxim : {5: 1}\n",
      "uncol : {9: 1}\n",
      "transform : {8: 1}\n",
      "jgkfldjgfkld : {1: 1}\n",
      "comput : {2: 1, 4: 1, 10: 1, 6: 1, 7: 1}\n",
      "squar : {5: 1}\n",
      "inspect : {6: 1}\n",
      "chang : {11: 1}\n",
      "programm : {10: 1, 11: 1, 4: 1, 7: 1}\n",
      "report : {1: 1}\n",
      "scheme : {8: 1, 3: 1}\n",
      "repeat : {2: 1}\n",
      "commun : {11: 1}\n",
      "propos : {9: 1, 11: 1}\n",
      "extract : {2: 1}\n",
      "equival : {8: 1}\n",
      "techniqu : {3: 1}\n",
      "problem : {11: 1}\n",
      "glossari : {10: 1, 4: 1, 7: 1}\n",
      "algebra : {1: 1}\n",
      "terminolog : {10: 1, 4: 1, 7: 1}\n",
      "languag : {1: 1}\n"
     ]
    }
   ],
   "source": [
    "for token in indexer.get_index_inverse().keys():\n",
    "    print(\"{} : {}\".format(token, str(indexer.getTfsForStem(token))))"
   ]
  },
  {
   "cell_type": "markdown",
   "metadata": {},
   "source": [
    "### Index inversé normalisé"
   ]
  },
  {
   "cell_type": "code",
   "execution_count": 13,
   "metadata": {},
   "outputs": [
    {
     "data": {
      "text/plain": [
       "{'2': {11: 0.125},\n",
       " 'algebra': {1: 0.16666666666666666},\n",
       " 'approxim': {5: 0.3333333333333333},\n",
       " 'chang': {11: 0.125},\n",
       " 'commun': {11: 0.125},\n",
       " 'comput': {2: 0.16666666666666666,\n",
       "  4: 0.2,\n",
       "  6: 0.3333333333333333,\n",
       "  7: 0.2,\n",
       "  10: 0.2},\n",
       " 'depart': {3: 0.2},\n",
       " 'digit': {2: 0.16666666666666666},\n",
       " 'engin': {4: 0.2, 7: 0.2, 10: 0.2},\n",
       " 'equival': {8: 0.25},\n",
       " 'extract': {2: 0.16666666666666666},\n",
       " 'glossari': {4: 0.2, 7: 0.2, 10: 0.2},\n",
       " 'inspect': {6: 0.3333333333333333},\n",
       " 'intern': {1: 0.16666666666666666},\n",
       " 'jgkfldjgfkld': {1: 0.16666666666666666},\n",
       " 'languag': {1: 0.16666666666666666},\n",
       " 'machin': {11: 0.125},\n",
       " 'matrix': {3: 0.2},\n",
       " 'preliminari': {1: 0.16666666666666666},\n",
       " 'problem': {11: 0.125},\n",
       " 'procedur': {6: 0.3333333333333333},\n",
       " 'program': {3: 0.2, 8: 0.25},\n",
       " 'programm': {4: 0.2, 7: 0.2, 10: 0.2, 11: 0.125},\n",
       " 'propos': {9: 0.5, 11: 0.125},\n",
       " 'repeat': {2: 0.16666666666666666},\n",
       " 'report': {1: 0.16666666666666666},\n",
       " 'root': {2: 0.16666666666666666, 5: 0.3333333333333333},\n",
       " 'scheme': {3: 0.2, 8: 0.25},\n",
       " 'solut': {11: 0.125},\n",
       " 'squar': {5: 0.3333333333333333},\n",
       " 'subtract': {2: 0.16666666666666666},\n",
       " 'techniqu': {3: 0.2},\n",
       " 'terminolog': {4: 0.2, 7: 0.2, 10: 0.2},\n",
       " 'transform': {8: 0.25},\n",
       " 'uncol': {9: 0.5}}"
      ]
     },
     "execution_count": 13,
     "metadata": {},
     "output_type": "execute_result"
    }
   ],
   "source": [
    "indexer.get_index_inverse(normalized=True)"
   ]
  },
  {
   "cell_type": "markdown",
   "metadata": {},
   "source": [
    "### Tf-idf"
   ]
  },
  {
   "cell_type": "code",
   "execution_count": 14,
   "metadata": {},
   "outputs": [
    {
     "data": {
      "text/plain": [
       "{'2': {11: 1.791759469228055},\n",
       " 'algebra': {1: 1.791759469228055},\n",
       " 'approxim': {5: 1.791759469228055},\n",
       " 'chang': {11: 1.791759469228055},\n",
       " 'commun': {11: 1.791759469228055},\n",
       " 'comput': {2: 0.6931471805599453,\n",
       "  4: 0.6931471805599453,\n",
       "  6: 0.6931471805599453,\n",
       "  7: 0.6931471805599453,\n",
       "  10: 0.6931471805599453},\n",
       " 'depart': {3: 1.791759469228055},\n",
       " 'digit': {2: 1.791759469228055},\n",
       " 'engin': {4: 1.0986122886681098,\n",
       "  7: 1.0986122886681098,\n",
       "  10: 1.0986122886681098},\n",
       " 'equival': {8: 1.791759469228055},\n",
       " 'extract': {2: 1.791759469228055},\n",
       " 'glossari': {4: 1.0986122886681098,\n",
       "  7: 1.0986122886681098,\n",
       "  10: 1.0986122886681098},\n",
       " 'inspect': {6: 1.791759469228055},\n",
       " 'intern': {1: 1.791759469228055},\n",
       " 'jgkfldjgfkld': {1: 1.791759469228055},\n",
       " 'languag': {1: 1.791759469228055},\n",
       " 'machin': {11: 1.791759469228055},\n",
       " 'matrix': {3: 1.791759469228055},\n",
       " 'preliminari': {1: 1.791759469228055},\n",
       " 'problem': {11: 1.791759469228055},\n",
       " 'procedur': {6: 1.791759469228055},\n",
       " 'program': {3: 1.3862943611198906, 8: 1.3862943611198906},\n",
       " 'programm': {4: 0.8754687373538999,\n",
       "  7: 0.8754687373538999,\n",
       "  10: 0.8754687373538999,\n",
       "  11: 0.8754687373538999},\n",
       " 'propos': {9: 1.3862943611198906, 11: 1.3862943611198906},\n",
       " 'repeat': {2: 1.791759469228055},\n",
       " 'report': {1: 1.791759469228055},\n",
       " 'root': {2: 1.3862943611198906, 5: 1.3862943611198906},\n",
       " 'scheme': {3: 1.3862943611198906, 8: 1.3862943611198906},\n",
       " 'solut': {11: 1.791759469228055},\n",
       " 'squar': {5: 1.791759469228055},\n",
       " 'subtract': {2: 1.791759469228055},\n",
       " 'techniqu': {3: 1.791759469228055},\n",
       " 'terminolog': {4: 1.0986122886681098,\n",
       "  7: 1.0986122886681098,\n",
       "  10: 1.0986122886681098},\n",
       " 'transform': {8: 1.791759469228055},\n",
       " 'uncol': {9: 1.791759469228055}}"
      ]
     },
     "execution_count": 14,
     "metadata": {},
     "output_type": "execute_result"
    }
   ],
   "source": [
    "indexer.get_tfidf()"
   ]
  },
  {
   "cell_type": "code",
   "execution_count": 40,
   "metadata": {},
   "outputs": [
    {
     "name": "stdout",
     "output_type": "stream",
     "text": [
      "Document 1 : {'report': 1.791759469228055, 'jgkfldjgfkld': 1.791759469228055, 'algebra': 1.791759469228055, 'preliminari': 1.791759469228055, 'languag': 1.791759469228055, 'intern': 1.791759469228055}\n",
      "Document 2 : {'extract': 1.791759469228055, 'subtract': 1.791759469228055, 'comput': 0.6931471805599453, 'root': 1.3862943611198906, 'digit': 1.791759469228055, 'repeat': 1.791759469228055}\n",
      "Document 3 : {'techniqu': 1.791759469228055, 'program': 1.3862943611198906, 'matrix': 1.791759469228055, 'depart': 1.791759469228055, 'scheme': 1.3862943611198906}\n",
      "Document 4 : {'programm': 0.8754687373538999, 'engin': 1.0986122886681098, 'comput': 0.6931471805599453, 'terminolog': 1.0986122886681098, 'glossari': 1.0986122886681098}\n",
      "Document 5 : {'squar': 1.791759469228055, 'root': 1.3862943611198906, 'approxim': 1.791759469228055}\n",
      "Document 6 : {'procedur': 1.791759469228055, 'comput': 0.6931471805599453, 'inspect': 1.791759469228055}\n",
      "Document 7 : {'programm': 0.8754687373538999, 'engin': 1.0986122886681098, 'comput': 0.6931471805599453, 'terminolog': 1.0986122886681098, 'glossari': 1.0986122886681098}\n",
      "Document 8 : {'program': 1.3862943611198906, 'scheme': 1.3862943611198906, 'transform': 1.791759469228055, 'equival': 1.791759469228055}\n",
      "Document 9 : {'propos': 1.3862943611198906, 'uncol': 1.791759469228055}\n",
      "Document 10 : {'programm': 0.8754687373538999, 'engin': 1.0986122886681098, 'comput': 0.6931471805599453, 'terminolog': 1.0986122886681098, 'glossari': 1.0986122886681098}\n",
      "Document 11 : {'machin': 1.791759469228055, 'chang': 1.791759469228055, 'propos': 1.3862943611198906, 'problem': 1.791759469228055, '2': 1.791759469228055, 'solut': 1.791759469228055, 'commun': 1.791759469228055, 'programm': 0.8754687373538999}\n"
     ]
    }
   ],
   "source": [
    "for (i,doc) in docs.items():\n",
    "    print(\"Document {} : {}\".format(str(i),str(indexer.getTfIDFsForDoc(doc))))"
   ]
  },
  {
   "cell_type": "code",
   "execution_count": 44,
   "metadata": {},
   "outputs": [
    {
     "name": "stdout",
     "output_type": "stream",
     "text": [
      "techniqu : {3: 1.791759469228055}\n",
      "terminolog : {10: 1.0986122886681098, 4: 1.0986122886681098, 7: 1.0986122886681098}\n",
      "chang : {11: 1.791759469228055}\n",
      "squar : {5: 1.791759469228055}\n",
      "transform : {8: 1.791759469228055}\n",
      "digit : {2: 1.791759469228055}\n",
      "inspect : {6: 1.791759469228055}\n",
      "solut : {11: 1.791759469228055}\n",
      "preliminari : {1: 1.791759469228055}\n",
      "program : {8: 1.3862943611198906, 3: 1.3862943611198906}\n",
      "matrix : {3: 1.791759469228055}\n",
      "extract : {2: 1.791759469228055}\n",
      "procedur : {6: 1.791759469228055}\n",
      "problem : {11: 1.791759469228055}\n",
      "equival : {8: 1.791759469228055}\n",
      "depart : {3: 1.791759469228055}\n",
      "commun : {11: 1.791759469228055}\n",
      "propos : {9: 1.3862943611198906, 11: 1.3862943611198906}\n",
      "report : {1: 1.791759469228055}\n",
      "machin : {11: 1.791759469228055}\n",
      "engin : {10: 1.0986122886681098, 4: 1.0986122886681098, 7: 1.0986122886681098}\n",
      "root : {2: 1.3862943611198906, 5: 1.3862943611198906}\n",
      "algebra : {1: 1.791759469228055}\n",
      "approxim : {5: 1.791759469228055}\n",
      "glossari : {10: 1.0986122886681098, 4: 1.0986122886681098, 7: 1.0986122886681098}\n",
      "languag : {1: 1.791759469228055}\n",
      "jgkfldjgfkld : {1: 1.791759469228055}\n",
      "programm : {10: 0.8754687373538999, 11: 0.8754687373538999, 4: 0.8754687373538999, 7: 0.8754687373538999}\n",
      "comput : {2: 0.6931471805599453, 4: 0.6931471805599453, 10: 0.6931471805599453, 6: 0.6931471805599453, 7: 0.6931471805599453}\n",
      "subtract : {2: 1.791759469228055}\n",
      "intern : {1: 1.791759469228055}\n",
      "scheme : {8: 1.3862943611198906, 3: 1.3862943611198906}\n",
      "2 : {11: 1.791759469228055}\n",
      "repeat : {2: 1.791759469228055}\n",
      "uncol : {9: 1.791759469228055}\n"
     ]
    }
   ],
   "source": [
    "for token in indexer.index_inverse.keys():\n",
    "    print(\"{} : {}\".format(token,indexer.getTfIDFsForStem(token)))"
   ]
  },
  {
   "cell_type": "markdown",
   "metadata": {},
   "source": [
    "### Df"
   ]
  },
  {
   "cell_type": "code",
   "execution_count": 15,
   "metadata": {},
   "outputs": [
    {
     "data": {
      "text/plain": [
       "{'2': 1,\n",
       " 'algebra': 1,\n",
       " 'approxim': 1,\n",
       " 'chang': 1,\n",
       " 'commun': 1,\n",
       " 'comput': 5,\n",
       " 'depart': 1,\n",
       " 'digit': 1,\n",
       " 'engin': 3,\n",
       " 'equival': 1,\n",
       " 'extract': 1,\n",
       " 'glossari': 3,\n",
       " 'inspect': 1,\n",
       " 'intern': 1,\n",
       " 'jgkfldjgfkld': 1,\n",
       " 'languag': 1,\n",
       " 'machin': 1,\n",
       " 'matrix': 1,\n",
       " 'preliminari': 1,\n",
       " 'problem': 1,\n",
       " 'procedur': 1,\n",
       " 'program': 2,\n",
       " 'programm': 4,\n",
       " 'propos': 2,\n",
       " 'repeat': 1,\n",
       " 'report': 1,\n",
       " 'root': 2,\n",
       " 'scheme': 2,\n",
       " 'solut': 1,\n",
       " 'squar': 1,\n",
       " 'subtract': 1,\n",
       " 'techniqu': 1,\n",
       " 'terminolog': 3,\n",
       " 'transform': 1,\n",
       " 'uncol': 1}"
      ]
     },
     "execution_count": 15,
     "metadata": {},
     "output_type": "execute_result"
    }
   ],
   "source": [
    "indexer.get_df()"
   ]
  },
  {
   "cell_type": "code",
   "execution_count": 17,
   "metadata": {},
   "outputs": [],
   "source": [
    "f = open(\"../pickled/cacmShort-good--indexer\", \"wb\")\n",
    "pickle.dump(indexer,f)\n",
    "f.close()"
   ]
  }
 ],
 "metadata": {
  "kernelspec": {
   "display_name": "Python 3",
   "language": "python",
   "name": "python3"
  },
  "language_info": {
   "codemirror_mode": {
    "name": "ipython",
    "version": 3
   },
   "file_extension": ".py",
   "mimetype": "text/x-python",
   "name": "python",
   "nbconvert_exporter": "python",
   "pygments_lexer": "ipython3",
   "version": "3.5.4"
  }
 },
 "nbformat": 4,
 "nbformat_minor": 2
}
